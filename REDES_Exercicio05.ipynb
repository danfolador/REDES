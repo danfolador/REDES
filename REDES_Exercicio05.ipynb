{
  "nbformat": 4,
  "nbformat_minor": 0,
  "metadata": {
    "colab": {
      "name": "REDES_Exercicio05.ipynb",
      "provenance": [],
      "authorship_tag": "ABX9TyOMp14/7mwhk3u7m+pL7RNU",
      "include_colab_link": true
    },
    "kernelspec": {
      "name": "python3",
      "display_name": "Python 3"
    },
    "language_info": {
      "name": "python"
    }
  },
  "cells": [
    {
      "cell_type": "markdown",
      "metadata": {
        "id": "view-in-github",
        "colab_type": "text"
      },
      "source": [
        "<a href=\"https://colab.research.google.com/github/danfolador/REDES/blob/main/REDES_Exercicio05.ipynb\" target=\"_parent\"><img src=\"https://colab.research.google.com/assets/colab-badge.svg\" alt=\"Open In Colab\"/></a>"
      ]
    },
    {
      "cell_type": "markdown",
      "metadata": {
        "id": "ncFLp4n3948o"
      },
      "source": [
        "**EXERCÍCIO 05**\n",
        "\n",
        "Aluno: Daniel Folador Rossi\n",
        "\n",
        "Matrícula: 20201mpca0306\n",
        "\n",
        "---\n",
        "\n",
        "Avalie com validação cruzada o desempenho da ELM em um dataset não-artificial.\n",
        "\n",
        "\n"
      ]
    },
    {
      "cell_type": "code",
      "metadata": {
        "id": "BONzHIf7Ckpw"
      },
      "source": [
        "#======================================================\n",
        "# INICIALIZAÇÃO\n",
        "#======================================================\n",
        "import numpy as np\n",
        "import matplotlib.pyplot as plt\n",
        "import pandas as pd\n",
        "from sklearn.datasets import make_blobs\n",
        "from sklearn.preprocessing import label_binarize \n",
        "from sklearn.model_selection import train_test_split\n",
        "from sklearn.preprocessing import LabelEncoder\n",
        "from sklearn.model_selection import cross_validate\n"
      ],
      "execution_count": 1,
      "outputs": []
    },
    {
      "cell_type": "code",
      "metadata": {
        "id": "iVQN6mQ6Cmcg"
      },
      "source": [
        "#======================================================\n",
        "# FUNCOES AUXILIARES\n",
        "#======================================================\n",
        "def PlotaRegiao(X, y, modelo, acuracia):\n",
        "    \n",
        "    \n",
        "    h = 0.05\n",
        "    x1_min, x1_max = X[:, 0].min() - 0.5, X[:, 0].max() + 0.5\n",
        "    x2_min, x2_max = X[:, 1].min() - 0.5, X[:, 1].max() + 0.5\n",
        "    \n",
        "    xx1, xx2 = np.meshgrid(np.arange(x1_min, x1_max, h),\n",
        "                           np.arange(x2_min, x2_max, h))\n",
        "    \n",
        "    Xreg = np.c_[xx1.ravel(), xx2.ravel()]\n",
        "    yreg = modelo.predict(Xreg)\n",
        "\n",
        "\n",
        "    n_classes = len(set(y))\n",
        "    levmin = min(set(y))-0.01\n",
        "    levmax = max(set(y))+0.01\n",
        "\n",
        "    levels=np.linspace(levmin,levmax,n_classes+1)\n",
        "    cmap=plt.get_cmap('Paired')\n",
        "    \n",
        "    PlotaDataSet(X, y, transp=.2)\n",
        "    plt.annotate('acuracia= ' + str(acuracia), xy=(0.05, 0.05), xycoords='axes fraction', color='red')\n",
        "    plt.tricontourf(Xreg[:,0], Xreg[:,1], yreg, cmap=cmap, levels=levels, alpha=0.3)\n",
        "    \n",
        "    plt.xlim(x1_min, x1_max)\n",
        "    plt.ylim(x2_min, x2_max)\n",
        "    \n",
        "    return Xreg, yreg\n",
        "\n",
        "\n",
        "def GeraDataSet_SepLin(tamanho=20, centros=4, random_state=None):\n",
        "    X, y = make_blobs(n_samples=tamanho, centers=centros, center_box=(0,1.0), cluster_std=0.10, random_state=random_state)\n",
        "    return X, y\n",
        "\n",
        "def GeraDataSet_NaoSepLin(tamanho=20, centros=[[0,0],[1,0],[1,1],[0,1]], random_state=None):\n",
        "    X, y = make_blobs(n_samples=tamanho, centers=centros, cluster_std=0.05, random_state=random_state)\n",
        "    y = np.array(y%2, dtype=int)\n",
        "    return X, y\n",
        "\n",
        "def PlotaDataSet(X, y, transp):\n",
        "    \n",
        "    x1_min, x1_max = X[:, 0].min() - 0.5, X[:, 0].max() + 0.5\n",
        "    x2_min, x2_max = X[:, 1].min() - 0.5, X[:, 1].max() + 0.5\n",
        "    \n",
        "    #plota pra cada classe\n",
        "    for k in set(y):\n",
        "        logic = y==k\n",
        "        plt.plot(X[:,0][logic], X[:,1][logic], 'o', alpha=transp)\n",
        "    plt.xlabel('X1')\n",
        "    plt.ylabel('X2')\n",
        "    plt.xlim(x1_min, x1_max)\n",
        "    plt.ylim(x2_min, x2_max)\n",
        "\n",
        "def CriaCategoricos(y):\n",
        "    replacements = {0:'a', 1:'b', 2:'c', 3:'d', 4:'e', 5:'f'}\n",
        "    replacer = replacements.get\n",
        "    y = [replacer(n, n) for n in y]\n",
        "    return y\n",
        "\n",
        "def TrataRotulos(y):\n",
        "    # Substitui por rótulos numéricos\n",
        "    encoder = LabelEncoder()\n",
        "    encoder.fit(y)\n",
        "    y = encoder.transform(y)\n",
        "    \n",
        "    # Para o caso binário, substitui por -1/+1\n",
        "    if len(set(y))<=2: y = y*2-1\n",
        "    return y"
      ],
      "execution_count": 2,
      "outputs": []
    },
    {
      "cell_type": "code",
      "metadata": {
        "id": "xJrXf7utCojz"
      },
      "source": [
        "#======================================================\n",
        "# ALGORITMOS\n",
        "#======================================================\n",
        "\n",
        "# PSEUDO-INVERSA\n",
        "#--------------------------------------------------\n",
        "class PseudoInversa():\n",
        "    def __init__(self):\n",
        "        pass\n",
        "    def getw(self, X, y):\n",
        "        w = np.random.uniform(-1, 1,size=(X.shape[1], y.shape[1]))\n",
        "        pinv = np.linalg.pinv(X)\n",
        "        w = np.matmul(pinv, y)\n",
        "        return w"
      ],
      "execution_count": 3,
      "outputs": []
    },
    {
      "cell_type": "code",
      "metadata": {
        "id": "kVbY4pToCp6-"
      },
      "source": [
        "#======================================================\n",
        "# ELM\n",
        "#======================================================\n",
        "from sklearn.base import BaseEstimator, ClassifierMixin\n",
        "from scipy.special import expit\n",
        "\n",
        "\n",
        "def tanh(a):\n",
        "    return expit(a)*2-1\n",
        "\n",
        "class ExtremeLearningMachine(BaseEstimator, ClassifierMixin):\n",
        "    \n",
        "    # INIT\n",
        "    #--------------------------------------------------\n",
        "    def __init__(self, algoritmo=PseudoInversa(), threshold=0):\n",
        "        self.wih = None\n",
        "        self.w = None\n",
        "        self.threshold = threshold\n",
        "        #self.activation = lambda a: (a>=0)*2 -1\n",
        "        self.activation = tanh\n",
        "        self.algoritmo = algoritmo\n",
        "    \n",
        "    # BIAS\n",
        "    #--------------------------------------------------\n",
        "    @staticmethod\n",
        "    def includebias(X):\n",
        "        bias = np.ones((X.shape[0],1))\n",
        "        Xb = np.concatenate((bias,X), axis=1)\n",
        "        return Xb\n",
        "\n",
        "    # FIT\n",
        "    #--------------------------------------------------        \n",
        "    def fit(self,X,y):\n",
        "        \n",
        "        #Pesos de input da camada hidden\n",
        "        #vamos usar k vezes o número de características de X\n",
        "        k = 3\n",
        "        self.wih = np.random.uniform(size=(X.shape[1], X.shape[1]*k))\n",
        "        Xh = np.matmul(X, self.wih)\n",
        "        Xho = self.activation(Xh)\n",
        "        X = ExtremeLearningMachine.includebias(Xho)\n",
        "        \n",
        "        self.labels = list(set(y))\n",
        "        y = label_binarize(y, classes=self.labels)*2-1\n",
        "        \n",
        "        # Treinamento\n",
        "        if hasattr(self.algoritmo, 'custo') and not (hasattr(self.algoritmo.custo, 'preactivated') and self.algoritmo.custo.preactivated):\n",
        "            self.w = self.algoritmo.getw(X, y, self.activation)    \n",
        "        else:\n",
        "            self.w = self.algoritmo.getw(X, y)\n",
        "\n",
        "\n",
        "    # PREDICT\n",
        "    #--------------------------------------------------     \n",
        "    def predict(self,X):\n",
        "        Xh = np.matmul(X, self.wih)\n",
        "        Xho = self.activation(Xh)       \n",
        "        Xb = ExtremeLearningMachine.includebias(Xho)  #Vamos usar o bias apenas na camada de saída\n",
        "        a = np.matmul(Xb, self.w)\n",
        "            \n",
        "        #Caso binário\n",
        "        if self.w.shape[1]<=1:\n",
        "            logic = self.activation(a) > self.threshold\n",
        "            idx = np.array(logic, dtype=int)[:,0]\n",
        "        #Caso multiclasse\n",
        "        else:\n",
        "            idx = np.argmax(a, axis=1)\n",
        "        \n",
        "        ypred = np.array([self.labels[i] for i in idx])     \n",
        "\n",
        "        return ypred"
      ],
      "execution_count": 4,
      "outputs": []
    },
    {
      "cell_type": "code",
      "metadata": {
        "id": "dx6w7Nm9CrqX"
      },
      "source": [
        "#======================================================\n",
        "# FUNCAO AJUSTE\n",
        "#======================================================\n",
        "def Ajuste(Xtrain, Xtest, ytrain, ytest, modelo, plota_vetor):\n",
        "\n",
        "    # AJUSTE\n",
        "    #------------------------------------------------------      \n",
        "    modelo.fit(Xtrain, ytrain)\n",
        "    #ypred = modelo.predict(Xtest)             #Prediçao com resubstituição\n",
        "    \n",
        "    scores = cross_validate(modelo, X, y, scoring = 'accuracy')\n",
        "    test_score = scores['test_score']\n",
        "    \n",
        "    # Caso Binário\n",
        "    if len(set(ytest))<=2:\n",
        "        pesos = modelo.w[1:]\n",
        "        bias = modelo.w[0]\n",
        "       \n",
        "    # Caso Multiclasse\n",
        "    else:\n",
        "        for i in range(len(set(ytest))):\n",
        "            pesos = modelo.w[1:,i]\n",
        "            bias = modelo.w[0,i]\n",
        "\n",
        "    pesos = modelo.w[1:]\n",
        "    bias = modelo.w[0]\n",
        "\n",
        "    \n",
        "    return pesos, bias, test_score"
      ],
      "execution_count": 5,
      "outputs": []
    },
    {
      "cell_type": "code",
      "metadata": {
        "colab": {
          "base_uri": "https://localhost:8080/"
        },
        "id": "PNqkHO_NCtDN",
        "outputId": "33ec49d2-a61d-47b5-c932-c2e0a6863bf8"
      },
      "source": [
        "#======================================================\n",
        "# BANCO DE DADOS\n",
        "#======================================================\n",
        "bd_file = 'https://archive.ics.uci.edu/ml/machine-learning-databases/00429/Cryotherapy.xlsx'\n",
        "bd = pd.read_excel(bd_file) \n",
        "X  = bd.iloc[:, 0:-1]\n",
        "y = bd.iloc[:, -1]\n",
        "\n",
        "N_classes = len(set(y))\n",
        "classes = set(y)\n",
        "\n",
        "\n",
        "print(bd.head())\n",
        "print()\n",
        "print(\"X.shape=\",X.shape)\n",
        "print(\"y.shape=\",y.shape)\n",
        "print(\"No de classes=\",N_classes)\n",
        "print(\"classes=\",classes)\n",
        "\n",
        "\n",
        "# Mantém apenas duas classes:\n",
        "cols = X.keys()\n",
        "cols2keep = {'age', 'Type'}\n",
        "cols2drop = cols.difference(cols2keep)\n",
        "print(cols2drop)\n",
        "\n",
        "X.drop(cols2drop, axis=1, inplace=True)\n",
        "\n",
        "X = pd.DataFrame.to_numpy(X)\n",
        "y = pd.DataFrame.to_numpy(y)"
      ],
      "execution_count": 12,
      "outputs": [
        {
          "output_type": "stream",
          "name": "stdout",
          "text": [
            "   sex  age   Time  Number_of_Warts  Type  Area  Result_of_Treatment\n",
            "0    1   35  12.00                5     1   100                    0\n",
            "1    1   29   7.00                5     1    96                    1\n",
            "2    1   50   8.00                1     3   132                    0\n",
            "3    1   32  11.75                7     3   750                    0\n",
            "4    1   67   9.25                1     1    42                    0\n",
            "\n",
            "X.shape= (90, 6)\n",
            "y.shape= (90,)\n",
            "No de classes= 2\n",
            "classes= {0, 1}\n",
            "Index(['Area', 'Number_of_Warts', 'Time', 'sex'], dtype='object')\n"
          ]
        }
      ]
    },
    {
      "cell_type": "code",
      "metadata": {
        "colab": {
          "base_uri": "https://localhost:8080/",
          "height": 794
        },
        "id": "8-VgfuFZCurE",
        "outputId": "39fe0501-cb7f-4e9c-c2de-82db6c474c3a"
      },
      "source": [
        "#======================================================\n",
        "# RODADAS\n",
        "#======================================================\n",
        "threshold = 0\n",
        "modelo = ExtremeLearningMachine(PseudoInversa(),threshold)\n",
        "    \n",
        "y=TrataRotulos(y)\n",
        "\n",
        "Xtrain, Xtest, ytrain, ytest = train_test_split(X, y, test_size=0.66)\n",
        "\n",
        "plt.title('Extreme Learning Machine')\n",
        "PlotaDataSet(Xtest, ytest, transp=0.3)\n",
        "\n",
        "pesos, bias, test_score = Ajuste(Xtrain, Xtest, ytrain, ytest, modelo, plota_vetor=False)\n",
        "plt.show()\n",
        "\n",
        "\n",
        "plt.title('Região de decisão')\n",
        "PlotaRegiao(X, y, modelo, np.mean(test_score))\n",
        "plt.show()\n",
        "\n",
        "print()\n",
        "print('Resultados')\n",
        "print('--------------------------------------------')\n",
        "print('bias=', bias)\n",
        "print('pesos=', pesos)\n",
        "print('acurácias=', test_score)\n",
        "print('acurácias médias=', np.mean(test_score))\n",
        "print()\n"
      ],
      "execution_count": 11,
      "outputs": [
        {
          "output_type": "display_data",
          "data": {
            "image/png": "[encoded data removed]",
            "text/plain": [
              "<Figure size 432x288 with 1 Axes>"
            ]
          },
          "metadata": {
            "needs_background": "light"
          }
        },
        {
          "output_type": "display_data",
          "data": {
            "image/png": "[encoded data removed]",
            "text/plain": [
              "<Figure size 432x288 with 1 Axes>"
            ]
          },
          "metadata": {
            "needs_background": "light"
          }
        },
        {
          "output_type": "stream",
          "name": "stdout",
          "text": [
            "\n",
            "Resultados\n",
            "--------------------------------------------\n",
            "bias= [4.60919929e+08]\n",
            "pesos= [[ 2.76071573e+04]\n",
            " [-4.85608206e+08]\n",
            " [-3.81866827e+04]\n",
            " [ 2.58713776e+07]\n",
            " [-8.90199958e+05]\n",
            " [-2.82320953e+05]]\n",
            "acurácias= [0.83333333 0.72222222 0.83333333 0.83333333 0.77777778]\n",
            "acurácias médias= 0.8\n",
            "\n"
          ]
        }
      ]
    }
  ]
}